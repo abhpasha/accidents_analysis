{
  "nbformat": 4,
  "nbformat_minor": 0,
  "metadata": {
    "colab": {
      "provenance": []
    },
    "kernelspec": {
      "name": "python3",
      "display_name": "Python 3"
    },
    "language_info": {
      "name": "python"
    }
  },
  "cells": [
    {
      "cell_type": "markdown",
      "source": [
        "Import Libraries and read CSV"
      ],
      "metadata": {
        "id": "hGEU3mZ3V04O"
      }
    },
    {
      "cell_type": "code",
      "execution_count": null,
      "metadata": {
        "id": "-orgiLHlSoSs"
      },
      "outputs": [],
      "source": [
        "#Import libraries and packages\n",
        "\n",
        "import numpy as np\n",
        "import pandas as pd\n",
        "import seaborn as sns\n",
        "import matplotlib.pyplot as plt\n",
        "import scipy.stats as stats"
      ]
    },
    {
      "cell_type": "code",
      "source": [
        "from google.colab import drive\n",
        "drive.mount('/content/drive')"
      ],
      "metadata": {
        "colab": {
          "base_uri": "https://localhost:8080/"
        },
        "id": "cXKVMKavSo9w",
        "outputId": "87b266c9-b215-4cb1-ade3-e224a3dd8700"
      },
      "execution_count": null,
      "outputs": [
        {
          "output_type": "stream",
          "name": "stdout",
          "text": [
            "Mounted at /content/drive\n"
          ]
        }
      ]
    },
    {
      "cell_type": "markdown",
      "source": [
        "Link to download census df:\n",
        "\n",
        "https://www.ons.gov.uk/datasets/create/filter-outputs/aeb74d20-cef9-4b3c-9c00-2617854d1f5a#get-data"
      ],
      "metadata": {
        "id": "ykilGSXTIjWK"
      }
    },
    {
      "cell_type": "code",
      "source": [
        "#Read csv and excel files\n",
        "\n",
        "accidents=pd.read_csv(r'/content/drive/MyDrive/ADS/BIG_DATA_STATS19.csv')\n",
        "census = pd.read_csv(r'/content/drive/MyDrive/ADS/census.csv')"
      ],
      "metadata": {
        "id": "emN1nx5MSqld",
        "colab": {
          "base_uri": "https://localhost:8080/"
        },
        "outputId": "d529203c-b60d-43ab-d1bf-9174705c9120"
      },
      "execution_count": null,
      "outputs": [
        {
          "output_type": "stream",
          "name": "stderr",
          "text": [
            "<ipython-input-3-db30553e20b3>:3: DtypeWarning: Columns (0,2,35,37,41,42,44,45,46,47,48,49,50,51,52,53,54,57,58,59,60,61,62,63,64,65,66,67,68,69,70,71,72,73,74,75,77,78,79) have mixed types. Specify dtype option on import or set low_memory=False.\n",
            "  accidents=pd.read_csv(r'/content/drive/MyDrive/ADS/BIG_DATA_STATS19.csv')\n"
          ]
        }
      ]
    },
    {
      "cell_type": "markdown",
      "source": [
        "Data Exploration"
      ],
      "metadata": {
        "id": "lcWBRIteuKy3"
      }
    },
    {
      "cell_type": "code",
      "source": [
        "city_colours = {\n",
        "    'Manchester': '#db0a5b',\n",
        "    'Liverpool': '#F8E256',\n",
        "    'Sheffield': '#E74C4A'\n",
        "}"
      ],
      "metadata": {
        "id": "vo5Z_1s0-eae"
      },
      "execution_count": null,
      "outputs": []
    },
    {
      "cell_type": "code",
      "source": [
        "print(accidents.isnull().all())"
      ],
      "metadata": {
        "colab": {
          "base_uri": "https://localhost:8080/"
        },
        "id": "eGM76qxSSs8N",
        "outputId": "61f3c1cd-cf86-4bcf-d8cb-257c2154b1db"
      },
      "execution_count": null,
      "outputs": [
        {
          "output_type": "stream",
          "name": "stdout",
          "text": [
            "accident_index_x          False\n",
            "accident_year_x           False\n",
            "accident_reference        False\n",
            "location_easting_osgr     False\n",
            "location_northing_osgr    False\n",
            "                          ...  \n",
            "propulsion_code           False\n",
            "age_of_vehicle            False\n",
            "generic_make_model        False\n",
            "driver_imd_decile         False\n",
            "driver_home_area_type     False\n",
            "Length: 80, dtype: bool\n"
          ]
        }
      ]
    },
    {
      "cell_type": "code",
      "source": [
        "print(census.isnull().all())"
      ],
      "metadata": {
        "colab": {
          "base_uri": "https://localhost:8080/"
        },
        "id": "286TQp1stTCf",
        "outputId": "6111afaf-85e0-4b8c-abee-5a56e0b91d62"
      },
      "execution_count": null,
      "outputs": [
        {
          "output_type": "stream",
          "name": "stdout",
          "text": [
            "Lower tier local authorities Code    False\n",
            "Lower tier local authorities         False\n",
            "Age (6 categories) Code              False\n",
            "Age (6 categories)                   False\n",
            "Sex (2 categories) Code              False\n",
            "Sex (2 categories)                   False\n",
            "Observation                          False\n",
            "dtype: bool\n"
          ]
        }
      ]
    },
    {
      "cell_type": "code",
      "source": [
        "print(accidents.isnull().any())"
      ],
      "metadata": {
        "colab": {
          "base_uri": "https://localhost:8080/"
        },
        "id": "tg3wxnwkSuqV",
        "outputId": "992d3367-6c42-4004-e3f1-d6324a616d3a"
      },
      "execution_count": null,
      "outputs": [
        {
          "output_type": "stream",
          "name": "stdout",
          "text": [
            "accident_index_x          False\n",
            "accident_year_x           False\n",
            "accident_reference        False\n",
            "location_easting_osgr      True\n",
            "location_northing_osgr     True\n",
            "                          ...  \n",
            "propulsion_code            True\n",
            "age_of_vehicle             True\n",
            "generic_make_model         True\n",
            "driver_imd_decile          True\n",
            "driver_home_area_type      True\n",
            "Length: 80, dtype: bool\n"
          ]
        }
      ]
    },
    {
      "cell_type": "code",
      "source": [
        "null_cols = accidents.isnull().any()\n",
        "null_cols = null_cols.loc[null_cols==True]\n",
        "print(null_cols.index.tolist())"
      ],
      "metadata": {
        "colab": {
          "base_uri": "https://localhost:8080/"
        },
        "id": "xgnURD3AmXlM",
        "outputId": "9d1630f7-0ac1-4ed0-f28e-d4ccb8648e33"
      },
      "execution_count": null,
      "outputs": [
        {
          "output_type": "stream",
          "name": "stdout",
          "text": [
            "['location_easting_osgr', 'location_northing_osgr', 'longitude', 'latitude', 'local_authority_district', 'first_road_number', 'speed_limit', 'second_road_class', 'second_road_number', 'datetime', 'accident_index_y', 'accident_year_y', 'vehicle_reference_x', 'casualty_reference', 'casualty_class', 'sex_of_casualty', 'age_of_casualty', 'age_band_of_casualty', 'casualty_severity', 'pedestrian_location', 'pedestrian_movement', 'car_passenger', 'bus_or_coach_passenger', 'pedestrian_road_maintenance_worker', 'casualty_type', 'casualty_home_area_type', 'casualty_imd_decile', 'accident_index', 'accident_year', 'vehicle_reference_y', 'vehicle_type', 'towing_and_articulation', 'vehicle_manoeuvre', 'vehicle_direction_from', 'vehicle_direction_to', 'vehicle_location_restricted_lane', 'junction_location', 'skidding_and_overturning', 'hit_object_in_carriageway', 'vehicle_leaving_carriageway', 'hit_object_off_carriageway', 'first_point_of_impact', 'vehicle_left_hand_drive', 'journey_purpose_of_driver', 'sex_of_driver', 'age_of_driver', 'age_band_of_driver', 'engine_capacity_cc', 'propulsion_code', 'age_of_vehicle', 'generic_make_model', 'driver_imd_decile', 'driver_home_area_type']\n"
          ]
        }
      ]
    },
    {
      "cell_type": "code",
      "source": [
        "print(census.isnull().any())"
      ],
      "metadata": {
        "colab": {
          "base_uri": "https://localhost:8080/"
        },
        "id": "kvt_hfmTtVDi",
        "outputId": "a4bde2f2-85e0-42f6-a029-8d75d3166c6c"
      },
      "execution_count": null,
      "outputs": [
        {
          "output_type": "stream",
          "name": "stdout",
          "text": [
            "Lower tier local authorities Code    False\n",
            "Lower tier local authorities         False\n",
            "Age (6 categories) Code              False\n",
            "Age (6 categories)                   False\n",
            "Sex (2 categories) Code              False\n",
            "Sex (2 categories)                   False\n",
            "Observation                          False\n",
            "dtype: bool\n"
          ]
        }
      ]
    },
    {
      "cell_type": "code",
      "source": [
        "#number of rows in the DataFrame\n",
        "num_rows_acc = accidents.shape[0]\n",
        "num_rows_cen = census.shape[0]\n",
        "\n",
        "print(num_rows_acc)\n",
        "print(num_rows_cen)"
      ],
      "metadata": {
        "colab": {
          "base_uri": "https://localhost:8080/"
        },
        "id": "LJK9hLgrJpsw",
        "outputId": "0cb85783-ddf7-426c-d7c2-ce4aee0cbd99"
      },
      "execution_count": null,
      "outputs": [
        {
          "output_type": "stream",
          "name": "stdout",
          "text": [
            "1404924\n",
            "3972\n"
          ]
        }
      ]
    },
    {
      "cell_type": "markdown",
      "source": [
        "Data Cleaning and Preparation"
      ],
      "metadata": {
        "id": "fJijlxTMIHOz"
      }
    },
    {
      "cell_type": "code",
      "source": [
        "# renaming the 'local_authority_district' column to 'city' in df \"accidents\"\n",
        "accidents = accidents.rename(columns={'local_authority_district': 'city'})"
      ],
      "metadata": {
        "id": "UvrEm_jawdjS"
      },
      "execution_count": null,
      "outputs": []
    },
    {
      "cell_type": "code",
      "source": [
        "# renaming the 'Lower tier local authorities' column to 'city' in df \"census\"\n",
        "census = census.rename(columns={'Lower tier local authorities': 'city'})"
      ],
      "metadata": {
        "id": "Sz6VLzQ49Jcl"
      },
      "execution_count": null,
      "outputs": []
    },
    {
      "cell_type": "code",
      "source": [
        "accidents['city'].isna().sum()"
      ],
      "metadata": {
        "colab": {
          "base_uri": "https://localhost:8080/"
        },
        "id": "iWqyphJynwDZ",
        "outputId": "351e88f5-e99b-4ff4-8653-8e869c7fe81d"
      },
      "execution_count": null,
      "outputs": [
        {
          "output_type": "execute_result",
          "data": {
            "text/plain": [
              "2322"
            ]
          },
          "metadata": {},
          "execution_count": 13
        }
      ]
    },
    {
      "cell_type": "code",
      "source": [
        "missing_cities = accidents[accidents['city'].isna()]\n",
        "missing_cities.to_csv('missing_cities.csv', index=False)"
      ],
      "metadata": {
        "id": "5fpg_8XCNUjx"
      },
      "execution_count": null,
      "outputs": []
    },
    {
      "cell_type": "code",
      "source": [
        "census['city'].isna().sum()"
      ],
      "metadata": {
        "colab": {
          "base_uri": "https://localhost:8080/"
        },
        "id": "uFf01Wavnvxx",
        "outputId": "43f52b32-c15e-49e8-e1dc-0303d3e0c49d"
      },
      "execution_count": null,
      "outputs": [
        {
          "output_type": "execute_result",
          "data": {
            "text/plain": [
              "0"
            ]
          },
          "metadata": {},
          "execution_count": 15
        }
      ]
    },
    {
      "cell_type": "code",
      "source": [
        "accidents = accidents.dropna(subset=['city'])"
      ],
      "metadata": {
        "id": "f-uV5fVFnLlp"
      },
      "execution_count": null,
      "outputs": []
    },
    {
      "cell_type": "code",
      "source": [
        "accidents['city'].isna().sum()"
      ],
      "metadata": {
        "colab": {
          "base_uri": "https://localhost:8080/"
        },
        "id": "I4qYfed9lfEn",
        "outputId": "f024f474-01a6-4610-8169-7aebe144bcfb"
      },
      "execution_count": null,
      "outputs": [
        {
          "output_type": "execute_result",
          "data": {
            "text/plain": [
              "0"
            ]
          },
          "metadata": {},
          "execution_count": 17
        }
      ]
    },
    {
      "cell_type": "code",
      "source": [
        "# counting the number of rows where 'local_authority_ons_district' starts with 'S', since census only includes England and Wales, not Scotland.\n",
        "count_scotland_accidents = (accidents['local_authority_ons_district'].str.startswith('S')).sum()\n",
        "\n",
        "print(count_scotland_accidents)"
      ],
      "metadata": {
        "colab": {
          "base_uri": "https://localhost:8080/"
        },
        "id": "4ZQZ-BZwIC6g",
        "outputId": "5b841139-4e04-424c-b649-4562f3538b33"
      },
      "execution_count": null,
      "outputs": [
        {
          "output_type": "stream",
          "name": "stdout",
          "text": [
            "74530\n"
          ]
        }
      ]
    },
    {
      "cell_type": "code",
      "source": [
        "# counting the number of rows where 'local_authority_ons_district' starts with 'W', to only consider England in analysis\n",
        "count_wales_accidents = (accidents['local_authority_ons_district'].str.startswith('W')).sum()\n",
        "count_wales_census = (census['Lower tier local authorities Code'].str.startswith('W')).sum()\n",
        "\n",
        "print(count_wales_accidents)\n",
        "print(count_wales_census)"
      ],
      "metadata": {
        "colab": {
          "base_uri": "https://localhost:8080/"
        },
        "id": "EzIMoF0hYJYt",
        "outputId": "66019d8e-a567-4a68-9037-b9fbc868a2e8"
      },
      "execution_count": null,
      "outputs": [
        {
          "output_type": "stream",
          "name": "stdout",
          "text": [
            "53317\n",
            "264\n"
          ]
        }
      ]
    },
    {
      "cell_type": "code",
      "source": [
        "# counting the number of unique names in the 'city' column\n",
        "num_unique_cities_accidents = accidents['city'].nunique()\n",
        "\n",
        "print(num_unique_cities_accidents)"
      ],
      "metadata": {
        "colab": {
          "base_uri": "https://localhost:8080/"
        },
        "id": "mDIxBeceLdCk",
        "outputId": "ef34abc2-cc95-43ed-9d0c-9f5d968b8122"
      },
      "execution_count": null,
      "outputs": [
        {
          "output_type": "stream",
          "name": "stdout",
          "text": [
            "380\n"
          ]
        }
      ]
    },
    {
      "cell_type": "code",
      "source": [
        "# counting the number of unique districts that start with 'S'\n",
        "count_scotland_accidents_unique = accidents.loc[accidents['local_authority_ons_district'].str.startswith('S'), 'local_authority_ons_district'].nunique()\n",
        "\n",
        "print(count_scotland_accidents_unique)"
      ],
      "metadata": {
        "colab": {
          "base_uri": "https://localhost:8080/"
        },
        "id": "NhVx5mOZMInW",
        "outputId": "964caba7-a7a5-4e4e-fc00-53a3ef1feae3"
      },
      "execution_count": null,
      "outputs": [
        {
          "output_type": "stream",
          "name": "stdout",
          "text": [
            "32\n"
          ]
        }
      ]
    },
    {
      "cell_type": "code",
      "source": [
        "# counting the number of unique districts that start with 'W'\n",
        "count_wales_accidents_unique = accidents.loc[accidents['local_authority_ons_district'].str.startswith('W'), 'local_authority_ons_district'].nunique()\n",
        "count_wales_census_unique = census.loc[census['Lower tier local authorities Code'].str.startswith('W'), 'Lower tier local authorities Code'].nunique()\n",
        "\n",
        "print(count_wales_accidents_unique)\n",
        "print(count_wales_census_unique)"
      ],
      "metadata": {
        "colab": {
          "base_uri": "https://localhost:8080/"
        },
        "id": "A1klCCRjYmIH",
        "outputId": "d161aee2-2038-42ab-c318-22884b6a54e1"
      },
      "execution_count": null,
      "outputs": [
        {
          "output_type": "stream",
          "name": "stdout",
          "text": [
            "22\n",
            "22\n"
          ]
        }
      ]
    },
    {
      "cell_type": "code",
      "source": [
        "# shape of the DataFrame before dropping rows\n",
        "print('Shape of Accidents DataFrame before dropping rows:')\n",
        "print(accidents.shape)\n",
        "print('Shape of Census DataFrame before dropping rows:')\n",
        "print(census.shape)\n",
        "\n",
        "# dropping rows where 'local_authority_ons_district' starts with 'S' and 'W'\n",
        "accidents = accidents[~accidents['local_authority_ons_district'].str.startswith('S')]\n",
        "accidents = accidents[~accidents['local_authority_ons_district'].str.startswith('W')]\n",
        "census = census[~census['Lower tier local authorities Code'].str.startswith('W')]\n",
        "\n",
        "\n",
        "# shape of the DataFrame after dropping rows\n",
        "print('Shape of Accidents DataFrame after dropping rows:')\n",
        "print(accidents.shape)\n",
        "print('Shape of Census DataFrame after dropping rows:')\n",
        "print(census.shape)"
      ],
      "metadata": {
        "colab": {
          "base_uri": "https://localhost:8080/"
        },
        "id": "PQixjKDhJ_le",
        "outputId": "37042f9c-dd88-4da5-e334-dcbde7a0284d"
      },
      "execution_count": null,
      "outputs": [
        {
          "output_type": "stream",
          "name": "stdout",
          "text": [
            "Shape of Accidents DataFrame before dropping rows:\n",
            "(1402602, 80)\n",
            "Shape of Census DataFrame before dropping rows:\n",
            "(3972, 7)\n",
            "Shape of Accidents DataFrame after dropping rows:\n",
            "(1274755, 80)\n",
            "Shape of Census DataFrame after dropping rows:\n",
            "(3708, 7)\n"
          ]
        }
      ]
    },
    {
      "cell_type": "code",
      "source": [
        "# counting the number of unique names in the 'city' column\n",
        "num_unique_cities_accidents = accidents['city'].nunique()\n",
        "\n",
        "print(num_unique_cities_accidents)"
      ],
      "metadata": {
        "colab": {
          "base_uri": "https://localhost:8080/"
        },
        "id": "Iv0bB-4s84XL",
        "outputId": "9e742ffe-c54f-48f5-ae4c-0b7fd4a8cad1"
      },
      "execution_count": null,
      "outputs": [
        {
          "output_type": "stream",
          "name": "stdout",
          "text": [
            "326\n"
          ]
        }
      ]
    },
    {
      "cell_type": "code",
      "source": [
        "# counting the number of unique names in the 'city' column\n",
        "num_unique_cities_census = census['city'].nunique()\n",
        "\n",
        "print(num_unique_cities_census)"
      ],
      "metadata": {
        "colab": {
          "base_uri": "https://localhost:8080/"
        },
        "id": "VXFDOPqo_EcM",
        "outputId": "1f19d945-7cbd-4a48-d957-0082b43bea22"
      },
      "execution_count": null,
      "outputs": [
        {
          "output_type": "stream",
          "name": "stdout",
          "text": [
            "309\n"
          ]
        }
      ]
    },
    {
      "cell_type": "code",
      "source": [
        "# finding cities in 'accidents' that are not in 'census'\n",
        "missing_cities_census = set(accidents['city']) - set(census['city'])\n",
        "\n",
        "print('Cities in accidents that are not in census:')\n",
        "print(missing_cities_census)"
      ],
      "metadata": {
        "colab": {
          "base_uri": "https://localhost:8080/"
        },
        "id": "pO8Mi84VAk_E",
        "outputId": "a0249d19-5b7f-47bc-d571-aac475dbf807"
      },
      "execution_count": null,
      "outputs": [
        {
          "output_type": "stream",
          "name": "stdout",
          "text": [
            "Cities in accidents that are not in census:\n",
            "{'Kettering', 'London Airport (Heathrow)', 'Stratford-upon-Avon', 'St. Albans', 'Poole', 'Chiltern', 'South Bucks', 'Daventry', 'West Somerset', 'Wellingborough', 'Corby', 'East Northamptonshire', 'North Dorset', 'Kingston upon Hull, City of', 'Bournemouth', 'West Dorset', 'Bristol, City of', 'Suffolk Coastal', 'Shepway', 'Waveney', 'Herefordshire, County of', 'Christchurch', 'Aylesbury Vale', 'East Dorset', 'South Northamptonshire', 'Northampton', 'St. Edmundsbury', 'Taunton Deane', 'Purbeck', 'Wycombe', 'Weymouth and Portland', 'Forest Heath'}\n"
          ]
        }
      ]
    },
    {
      "cell_type": "code",
      "source": [
        "# finding cities in 'census' that are not in 'accidents'\n",
        "missing_cities_accidents = set(census['city']) - set(accidents['city'])\n",
        "\n",
        "print('Cities in accidents that are not in accidents:')\n",
        "print(missing_cities_accidents)"
      ],
      "metadata": {
        "colab": {
          "base_uri": "https://localhost:8080/"
        },
        "id": "Uz5SD5G_NguL",
        "outputId": "058911d0-963a-4486-9626-a23294cead16"
      },
      "execution_count": null,
      "outputs": [
        {
          "output_type": "stream",
          "name": "stdout",
          "text": [
            "Cities in accidents that are not in accidents:\n",
            "{'Folkestone and Hythe', 'East Suffolk', 'Buckinghamshire', 'Kingston upon Hull', 'Isles of Scilly', 'Somerset West and Taunton', 'Stratford-on-Avon', 'St Albans', 'West Northamptonshire', 'Bristol', 'Dorset', 'North Northamptonshire', 'West Suffolk', 'Bournemouth, Christchurch and Poole', 'Herefordshire'}\n"
          ]
        }
      ]
    },
    {
      "cell_type": "markdown",
      "source": [
        "Make sure that city names match across datasets after researching what district they belong to and after generalising names."
      ],
      "metadata": {
        "id": "lsIq0Z8ogLSH"
      }
    },
    {
      "cell_type": "code",
      "source": [
        "# replacing values in the \"city\" column in \"accidents\" df\n",
        "accidents['city'] = accidents['city'].replace({\n",
        "    'Bristol, City of': 'Bristol',\n",
        "    'East Dorset': 'Dorset',\n",
        "    'Herefordshire, County of': 'Herefordshire',\n",
        "    'Kingston upon Hull, City of': 'Kingston upon Hull',\n",
        "    'Rhondda, Cynon, Taff': 'Rhondda Cynon Taf',\n",
        "    'London Airport (Heathrow)': 'City of London',\n",
        "    'St. Albans': 'St Albans',\n",
        "    'Stratford-upon-Avon': 'Stratford-on-Avon',\n",
        "    'The Vale of Glamorgan': 'Vale of Glamorgan',\n",
        "    'Christchurch': 'Bournemouth',\n",
        "    'Poole': 'Bournemouth',\n",
        "    'South Bucks': 'Buckinghamshire',\n",
        "    'Suffolk Coastal': 'East Suffolk',\n",
        "    'Northampton': 'Northamptonshire',\n",
        "    'East Northamptonshire': 'Northamptonshire',\n",
        "    'South Northamptonshire': 'Northamptonshire',\n",
        "    'Taunton Deane': 'Somerset West and Taunton',\n",
        "    'West Somerset': 'Somerset West and Taunton',\n",
        "    'Forest Heath': 'West Suffolk',\n",
        "    'Aylesbury Vale': 'Buckinghamshire',\n",
        "    'Chiltern': 'Buckinghamshire',\n",
        "    'Corby': 'Northamptonshire',\n",
        "    'Daventry': 'Northamptonshire',\n",
        "    'Kettering': 'Northamptonshire',\n",
        "    'North Dorset': 'Dorset',\n",
        "    'Purbeck': 'Dorset',\n",
        "    'St. Edmundsbury': 'Bury',\n",
        "    'Waveney': 'East Suffolk',\n",
        "    'Wellingborough': 'Northamptonshire',\n",
        "    'West Dorset': 'Dorset',\n",
        "    'Weymouth and Portland': 'Dorset',\n",
        "    'Wycombe': 'Buckinghamshire'\n",
        "})\n",
        "\n",
        "# replacing values in the \"city\" column in \"census\" df\n",
        "census['city'] = census['city'].replace({\n",
        "    'Bournemouth, Christchurch and Poole': 'Bournemouth',\n",
        "    'Folkestone and Hythe': 'Shepway',\n",
        "    'Isles of Scilly': 'Cornwall',\n",
        "    'West Northamptonshire': 'Northamptonshire',\n",
        "    'North Northamptonshire': 'Northamptonshire'\n",
        "})"
      ],
      "metadata": {
        "id": "3NyKAwfAgch9"
      },
      "execution_count": null,
      "outputs": []
    },
    {
      "cell_type": "code",
      "source": [
        "accidents_cities = set(accidents[\"city\"].unique())\n",
        "census_cities = set(census[\"city\"].unique())\n",
        "\n",
        "print(accidents_cities.issubset(census_cities))\n",
        "print(census_cities.issubset(accidents_cities))"
      ],
      "metadata": {
        "colab": {
          "base_uri": "https://localhost:8080/"
        },
        "id": "5VlJoOIhiQ0N",
        "outputId": "f68364bc-62dc-4e50-b724-137f744d2d79"
      },
      "execution_count": null,
      "outputs": [
        {
          "output_type": "stream",
          "name": "stdout",
          "text": [
            "True\n",
            "True\n"
          ]
        }
      ]
    },
    {
      "cell_type": "markdown",
      "source": [
        "Answering Questions"
      ],
      "metadata": {
        "id": "ws7kMc71IEtc"
      }
    },
    {
      "cell_type": "markdown",
      "source": [
        "2016 - 2020"
      ],
      "metadata": {
        "id": "UtRR6TcQJ0Qn"
      }
    },
    {
      "cell_type": "code",
      "source": [
        "accidents_per_city = accidents.groupby('city')['accident_reference'].count()"
      ],
      "metadata": {
        "id": "Z6X8bSgEybUJ"
      },
      "execution_count": null,
      "outputs": []
    },
    {
      "cell_type": "code",
      "source": [
        "accidents_per_city"
      ],
      "metadata": {
        "colab": {
          "base_uri": "https://localhost:8080/"
        },
        "id": "GrJ_FivJyruw",
        "outputId": "8cf02135-f95f-42ec-96b3-cb4fce233cb8"
      },
      "execution_count": null,
      "outputs": [
        {
          "output_type": "execute_result",
          "data": {
            "text/plain": [
              "city\n",
              "Adur            1449\n",
              "Allerdale       2529\n",
              "Amber Valley    2176\n",
              "Arun            3256\n",
              "Ashfield        2909\n",
              "                ... \n",
              "Worthing        2312\n",
              "Wychavon        3086\n",
              "Wyre            2492\n",
              "Wyre Forest     1852\n",
              "York            4448\n",
              "Name: accident_reference, Length: 307, dtype: int64"
            ]
          },
          "metadata": {},
          "execution_count": 31
        }
      ]
    },
    {
      "cell_type": "code",
      "source": [
        "population_per_city = census.groupby('city')['Observation'].sum()"
      ],
      "metadata": {
        "id": "zam2miDZybR5"
      },
      "execution_count": null,
      "outputs": []
    },
    {
      "cell_type": "code",
      "source": [
        "population_per_city"
      ],
      "metadata": {
        "colab": {
          "base_uri": "https://localhost:8080/"
        },
        "id": "iEra3n0Jz_du",
        "outputId": "60a21848-a292-4178-df3d-b22ec1a2aaab"
      },
      "execution_count": null,
      "outputs": [
        {
          "output_type": "execute_result",
          "data": {
            "text/plain": [
              "city\n",
              "Adur             63855\n",
              "Allerdale        95172\n",
              "Amber Valley    125196\n",
              "Arun            161433\n",
              "Ashfield        125185\n",
              "                 ...  \n",
              "Worthing        109662\n",
              "Wychavon        131016\n",
              "Wyre            110297\n",
              "Wyre Forest     100610\n",
              "York            191572\n",
              "Name: Observation, Length: 307, dtype: int64"
            ]
          },
          "metadata": {},
          "execution_count": 33
        }
      ]
    },
    {
      "cell_type": "code",
      "source": [
        "cities = ['Manchester', 'Liverpool', 'Sheffield']\n",
        "\n",
        "# filtering the census data for the cities in the list\n",
        "cities_census = census[census['city'].isin(cities)]\n",
        "\n",
        "# grouping the filtered census data by city and sum the observations to get population\n",
        "population_cities = cities_census.groupby('city')['Observation'].sum()\n",
        "\n",
        "print(population_cities)"
      ],
      "metadata": {
        "colab": {
          "base_uri": "https://localhost:8080/"
        },
        "id": "5-4mtYupFeya",
        "outputId": "175e2aaf-7722-4042-e54a-4dcce28d1873"
      },
      "execution_count": null,
      "outputs": [
        {
          "output_type": "stream",
          "name": "stdout",
          "text": [
            "city\n",
            "Liverpool     463876\n",
            "Manchester    530136\n",
            "Sheffield     535893\n",
            "Name: Observation, dtype: int64\n"
          ]
        }
      ]
    },
    {
      "cell_type": "code",
      "source": [
        "# filtering the census data for the cities in the list and for the age category \"Aged 15 years and under\"\n",
        "city_census_children = census[(census['city'].isin(cities)) & (census['Age (6 categories)'] == 'Aged 15 years and under')]\n",
        "\n",
        "# grouping the filtered census data by city and sum the observations to get population of children\n",
        "population_per_city_children = city_census_children.groupby('city')['Observation'].sum()\n",
        "\n",
        "print(population_per_city_children)"
      ],
      "metadata": {
        "colab": {
          "base_uri": "https://localhost:8080/"
        },
        "id": "sumXjgwPGOix",
        "outputId": "47d33809-e3a0-42f9-958c-bdfebfcc1340"
      },
      "execution_count": null,
      "outputs": [
        {
          "output_type": "stream",
          "name": "stdout",
          "text": [
            "city\n",
            "Liverpool      83008\n",
            "Manchester    113881\n",
            "Sheffield     100226\n",
            "Name: Observation, dtype: int64\n"
          ]
        }
      ]
    },
    {
      "cell_type": "code",
      "source": [
        "accidents_per_capita = (accidents_per_city / population_per_city) * 1000"
      ],
      "metadata": {
        "id": "1M-aBnjqybPr"
      },
      "execution_count": null,
      "outputs": []
    },
    {
      "cell_type": "code",
      "source": [
        "# Sorting the dictionary by values in descending order\n",
        "accidents_per_capita_sorted = dict(sorted(accidents_per_capita.items(), key=lambda x: x[1], reverse=True))\n",
        "\n",
        "for city, acc_per_capita in accidents_per_capita_sorted.items():\n",
        "    print(f\"In {city}, there is {acc_per_capita:.2f} accidents per 1,000 people\")"
      ],
      "metadata": {
        "colab": {
          "base_uri": "https://localhost:8080/"
        },
        "id": "BX3dElphybLa",
        "outputId": "648612e2-2fb3-4b32-a670-88069c97aa50"
      },
      "execution_count": null,
      "outputs": [
        {
          "output_type": "stream",
          "name": "stdout",
          "text": [
            "In City of London, there is 275.85 accidents per 1,000 people\n",
            "In Westminster, there is 64.78 accidents per 1,000 people\n",
            "In Tandridge, there is 59.85 accidents per 1,000 people\n",
            "In North Warwickshire, there is 56.95 accidents per 1,000 people\n",
            "In Runnymede, there is 52.45 accidents per 1,000 people\n",
            "In Guildford, there is 44.84 accidents per 1,000 people\n",
            "In Kensington and Chelsea, there is 43.34 accidents per 1,000 people\n",
            "In Dartford, there is 42.12 accidents per 1,000 people\n",
            "In Mole Valley, there is 38.04 accidents per 1,000 people\n",
            "In Camden, there is 37.43 accidents per 1,000 people\n",
            "In Ryedale, there is 37.38 accidents per 1,000 people\n",
            "In West Lindsey, there is 36.65 accidents per 1,000 people\n",
            "In Lambeth, there is 36.53 accidents per 1,000 people\n",
            "In East Lindsey, there is 35.43 accidents per 1,000 people\n",
            "In Winchester, there is 34.52 accidents per 1,000 people\n",
            "In Sevenoaks, there is 34.34 accidents per 1,000 people\n",
            "In Tower Hamlets, there is 34.31 accidents per 1,000 people\n",
            "In Reigate and Banstead, there is 33.81 accidents per 1,000 people\n",
            "In Hammersmith and Fulham, there is 33.65 accidents per 1,000 people\n",
            "In Preston, there is 33.45 accidents per 1,000 people\n",
            "In Kingston upon Hull, there is 33.25 accidents per 1,000 people\n",
            "In Surrey Heath, there is 32.98 accidents per 1,000 people\n",
            "In Tonbridge and Malling, there is 32.86 accidents per 1,000 people\n",
            "In Eden, there is 32.47 accidents per 1,000 people\n",
            "In Craven, there is 32.46 accidents per 1,000 people\n",
            "In Islington, there is 32.07 accidents per 1,000 people\n",
            "In Doncaster, there is 31.79 accidents per 1,000 people\n",
            "In Southwark, there is 31.77 accidents per 1,000 people\n",
            "In Boston, there is 31.77 accidents per 1,000 people\n",
            "In Epping Forest, there is 31.76 accidents per 1,000 people\n",
            "In Spelthorne, there is 31.58 accidents per 1,000 people\n",
            "In Haringey, there is 31.55 accidents per 1,000 people\n",
            "In Hackney, there is 31.26 accidents per 1,000 people\n",
            "In Fylde, there is 30.80 accidents per 1,000 people\n",
            "In Peterborough, there is 30.65 accidents per 1,000 people\n",
            "In Rother, there is 30.59 accidents per 1,000 people\n",
            "In Hertsmere, there is 30.54 accidents per 1,000 people\n",
            "In Nottingham, there is 30.49 accidents per 1,000 people\n",
            "In North East Lincolnshire, there is 30.42 accidents per 1,000 people\n",
            "In Elmbridge, there is 30.37 accidents per 1,000 people\n",
            "In Hambleton, there is 30.31 accidents per 1,000 people\n",
            "In Harrogate, there is 30.25 accidents per 1,000 people\n",
            "In South Ribble, there is 30.09 accidents per 1,000 people\n",
            "In Blackpool, there is 29.94 accidents per 1,000 people\n",
            "In Richmondshire, there is 29.91 accidents per 1,000 people\n",
            "In Lancaster, there is 29.91 accidents per 1,000 people\n",
            "In South Holland, there is 29.62 accidents per 1,000 people\n",
            "In Maidstone, there is 29.37 accidents per 1,000 people\n",
            "In Birmingham, there is 29.28 accidents per 1,000 people\n",
            "In Wealden, there is 29.19 accidents per 1,000 people\n",
            "In Chichester, there is 29.18 accidents per 1,000 people\n",
            "In North Lincolnshire, there is 29.16 accidents per 1,000 people\n",
            "In Thanet, there is 29.09 accidents per 1,000 people\n",
            "In Swale, there is 29.04 accidents per 1,000 people\n",
            "In South Cambridgeshire, there is 28.97 accidents per 1,000 people\n",
            "In Gravesham, there is 28.93 accidents per 1,000 people\n",
            "In Newark and Sherwood, there is 28.84 accidents per 1,000 people\n",
            "In North Kesteven, there is 28.68 accidents per 1,000 people\n",
            "In Portsmouth, there is 28.30 accidents per 1,000 people\n",
            "In Wandsworth, there is 28.07 accidents per 1,000 people\n",
            "In Blackburn with Darwen, there is 28.01 accidents per 1,000 people\n",
            "In South Lakeland, there is 27.95 accidents per 1,000 people\n",
            "In Rugby, there is 27.45 accidents per 1,000 people\n",
            "In Barking and Dagenham, there is 27.39 accidents per 1,000 people\n",
            "In Lincoln, there is 27.35 accidents per 1,000 people\n",
            "In Enfield, there is 27.28 accidents per 1,000 people\n",
            "In Ashford, there is 27.23 accidents per 1,000 people\n",
            "In Shepway, there is 27.16 accidents per 1,000 people\n",
            "In Stratford-on-Avon, there is 27.14 accidents per 1,000 people\n",
            "In Cambridge, there is 27.04 accidents per 1,000 people\n",
            "In Lewisham, there is 27.01 accidents per 1,000 people\n",
            "In Derbyshire Dales, there is 26.96 accidents per 1,000 people\n",
            "In Hounslow, there is 26.94 accidents per 1,000 people\n",
            "In Chorley, there is 26.93 accidents per 1,000 people\n",
            "In Copeland, there is 26.79 accidents per 1,000 people\n",
            "In Woking, there is 26.79 accidents per 1,000 people\n",
            "In Fenland, there is 26.77 accidents per 1,000 people\n",
            "In Allerdale, there is 26.57 accidents per 1,000 people\n",
            "In Huntingdonshire, there is 26.57 accidents per 1,000 people\n",
            "In Hyndburn, there is 26.46 accidents per 1,000 people\n",
            "In East Riding of Yorkshire, there is 26.17 accidents per 1,000 people\n",
            "In Ealing, there is 25.94 accidents per 1,000 people\n",
            "In Bassetlaw, there is 25.57 accidents per 1,000 people\n",
            "In Dorset, there is 25.50 accidents per 1,000 people\n",
            "In Brent, there is 25.28 accidents per 1,000 people\n",
            "In Lewes, there is 25.24 accidents per 1,000 people\n",
            "In Barnet, there is 25.20 accidents per 1,000 people\n",
            "In Warrington, there is 25.15 accidents per 1,000 people\n",
            "In Babergh, there is 24.96 accidents per 1,000 people\n",
            "In New Forest, there is 24.91 accidents per 1,000 people\n",
            "In Central Bedfordshire, there is 24.91 accidents per 1,000 people\n",
            "In Cotswold, there is 24.89 accidents per 1,000 people\n",
            "In Canterbury, there is 24.83 accidents per 1,000 people\n",
            "In Rotherham, there is 24.81 accidents per 1,000 people\n",
            "In East Cambridgeshire, there is 24.72 accidents per 1,000 people\n",
            "In Tunbridge Wells, there is 24.70 accidents per 1,000 people\n",
            "In Warwick, there is 24.67 accidents per 1,000 people\n",
            "In Barnsley, there is 24.67 accidents per 1,000 people\n",
            "In Brentwood, there is 24.64 accidents per 1,000 people\n",
            "In Bury, there is 24.62 accidents per 1,000 people\n",
            "In Newham, there is 24.54 accidents per 1,000 people\n",
            "In Greenwich, there is 24.47 accidents per 1,000 people\n",
            "In Isle of Wight, there is 24.46 accidents per 1,000 people\n",
            "In Redbridge, there is 24.43 accidents per 1,000 people\n",
            "In Norwich, there is 24.36 accidents per 1,000 people\n",
            "In Carlisle, there is 24.33 accidents per 1,000 people\n",
            "In Dover, there is 24.26 accidents per 1,000 people\n",
            "In King's Lynn and West Norfolk, there is 24.24 accidents per 1,000 people\n",
            "In Leeds, there is 24.21 accidents per 1,000 people\n",
            "In Brighton and Hove, there is 24.21 accidents per 1,000 people\n",
            "In Havering, there is 24.09 accidents per 1,000 people\n",
            "In Wiltshire, there is 24.07 accidents per 1,000 people\n",
            "In Liverpool, there is 23.96 accidents per 1,000 people\n",
            "In Waverley, there is 23.92 accidents per 1,000 people\n",
            "In West Devon, there is 23.90 accidents per 1,000 people\n",
            "In Medway, there is 23.90 accidents per 1,000 people\n",
            "In St Albans, there is 23.72 accidents per 1,000 people\n",
            "In Luton, there is 23.69 accidents per 1,000 people\n",
            "In Crawley, there is 23.65 accidents per 1,000 people\n",
            "In Gateshead, there is 23.63 accidents per 1,000 people\n",
            "In Horsham, there is 23.62 accidents per 1,000 people\n",
            "In Wychavon, there is 23.55 accidents per 1,000 people\n",
            "In Test Valley, there is 23.51 accidents per 1,000 people\n",
            "In Hillingdon, there is 23.48 accidents per 1,000 people\n",
            "In Waltham Forest, there is 23.42 accidents per 1,000 people\n",
            "In Bromsgrove, there is 23.41 accidents per 1,000 people\n",
            "In South Norfolk, there is 23.37 accidents per 1,000 people\n",
            "In Broadland, there is 23.30 accidents per 1,000 people\n",
            "In Hastings, there is 23.29 accidents per 1,000 people\n",
            "In West Lancashire, there is 23.29 accidents per 1,000 people\n",
            "In Walsall, there is 23.25 accidents per 1,000 people\n",
            "In Ashfield, there is 23.24 accidents per 1,000 people\n",
            "In Cheshire West and Chester, there is 23.22 accidents per 1,000 people\n",
            "In York, there is 23.22 accidents per 1,000 people\n",
            "In Wolverhampton, there is 23.20 accidents per 1,000 people\n",
            "In Sheffield, there is 23.07 accidents per 1,000 people\n",
            "In South Kesteven, there is 23.02 accidents per 1,000 people\n",
            "In Fareham, there is 22.96 accidents per 1,000 people\n",
            "In South Staffordshire, there is 22.96 accidents per 1,000 people\n",
            "In Southampton, there is 22.86 accidents per 1,000 people\n",
            "In Herefordshire, there is 22.84 accidents per 1,000 people\n",
            "In Leicester, there is 22.70 accidents per 1,000 people\n",
            "In Adur, there is 22.69 accidents per 1,000 people\n",
            "In Sandwell, there is 22.60 accidents per 1,000 people\n",
            "In Wyre, there is 22.59 accidents per 1,000 people\n",
            "In Mid Sussex, there is 22.58 accidents per 1,000 people\n",
            "In Croydon, there is 22.55 accidents per 1,000 people\n",
            "In Welwyn Hatfield, there is 22.44 accidents per 1,000 people\n",
            "In Bournemouth, there is 22.44 accidents per 1,000 people\n",
            "In Burnley, there is 22.43 accidents per 1,000 people\n",
            "In Rossendale, there is 22.41 accidents per 1,000 people\n",
            "In Rushcliffe, there is 22.27 accidents per 1,000 people\n",
            "In Northumberland, there is 22.26 accidents per 1,000 people\n",
            "In Breckland, there is 22.21 accidents per 1,000 people\n",
            "In Bradford, there is 22.09 accidents per 1,000 people\n",
            "In Merton, there is 22.03 accidents per 1,000 people\n",
            "In Ipswich, there is 22.01 accidents per 1,000 people\n",
            "In Eastleigh, there is 21.94 accidents per 1,000 people\n",
            "In Mansfield, there is 21.93 accidents per 1,000 people\n",
            "In Cheshire East, there is 21.90 accidents per 1,000 people\n",
            "In Bromley, there is 21.86 accidents per 1,000 people\n",
            "In Cherwell, there is 21.86 accidents per 1,000 people\n",
            "In Newcastle upon Tyne, there is 21.77 accidents per 1,000 people\n",
            "In East Hampshire, there is 21.75 accidents per 1,000 people\n",
            "In Coventry, there is 21.73 accidents per 1,000 people\n",
            "In Shropshire, there is 21.67 accidents per 1,000 people\n",
            "In Great Yarmouth, there is 21.67 accidents per 1,000 people\n",
            "In Blaby, there is 21.66 accidents per 1,000 people\n",
            "In South Derbyshire, there is 21.65 accidents per 1,000 people\n",
            "In Ribble Valley, there is 21.56 accidents per 1,000 people\n",
            "In Slough, there is 21.56 accidents per 1,000 people\n",
            "In Bedford, there is 21.46 accidents per 1,000 people\n",
            "In Epsom and Ewell, there is 21.45 accidents per 1,000 people\n",
            "In Cornwall, there is 21.23 accidents per 1,000 people\n",
            "In Wakefield, there is 21.21 accidents per 1,000 people\n",
            "In Barrow-in-Furness, there is 21.11 accidents per 1,000 people\n",
            "In Worthing, there is 21.08 accidents per 1,000 people\n",
            "In Derby, there is 21.05 accidents per 1,000 people\n",
            "In Darlington, there is 21.02 accidents per 1,000 people\n",
            "In North Devon, there is 20.93 accidents per 1,000 people\n",
            "In Stoke-on-Trent, there is 20.86 accidents per 1,000 people\n",
            "In Swindon, there is 20.81 accidents per 1,000 people\n",
            "In Manchester, there is 20.71 accidents per 1,000 people\n",
            "In Richmond upon Thames, there is 20.70 accidents per 1,000 people\n",
            "In Teignbridge, there is 20.56 accidents per 1,000 people\n",
            "In Milton Keynes, there is 20.50 accidents per 1,000 people\n",
            "In Broxtowe, there is 20.43 accidents per 1,000 people\n",
            "In Bolsover, there is 20.42 accidents per 1,000 people\n",
            "In South Hams, there is 20.36 accidents per 1,000 people\n",
            "In Newcastle-under-Lyme, there is 20.35 accidents per 1,000 people\n",
            "In Pendle, there is 20.34 accidents per 1,000 people\n",
            "In Havant, there is 20.34 accidents per 1,000 people\n",
            "In Oxford, there is 20.32 accidents per 1,000 people\n",
            "In Scarborough, there is 20.31 accidents per 1,000 people\n",
            "In Rutland, there is 20.30 accidents per 1,000 people\n",
            "In Arun, there is 20.17 accidents per 1,000 people\n",
            "In Stafford, there is 20.13 accidents per 1,000 people\n",
            "In Mid Suffolk, there is 20.11 accidents per 1,000 people\n",
            "In Middlesbrough, there is 20.10 accidents per 1,000 people\n",
            "In Selby, there is 20.01 accidents per 1,000 people\n",
            "In Thurrock, there is 19.93 accidents per 1,000 people\n",
            "In Kirklees, there is 19.92 accidents per 1,000 people\n",
            "In Basingstoke and Deane, there is 19.86 accidents per 1,000 people\n",
            "In Sedgemoor, there is 19.83 accidents per 1,000 people\n",
            "In County Durham, there is 19.83 accidents per 1,000 people\n",
            "In Lichfield, there is 19.69 accidents per 1,000 people\n",
            "In Eastbourne, there is 19.67 accidents per 1,000 people\n",
            "In Hart, there is 19.61 accidents per 1,000 people\n",
            "In East Staffordshire, there is 19.57 accidents per 1,000 people\n",
            "In Halton, there is 19.54 accidents per 1,000 people\n",
            "In Kingston upon Thames, there is 19.51 accidents per 1,000 people\n",
            "In North Hertfordshire, there is 19.51 accidents per 1,000 people\n",
            "In North West Leicestershire, there is 19.50 accidents per 1,000 people\n",
            "In Calderdale, there is 19.46 accidents per 1,000 people\n",
            "In Sefton, there is 19.43 accidents per 1,000 people\n",
            "In Tewkesbury, there is 19.32 accidents per 1,000 people\n",
            "In Uttlesford, there is 19.19 accidents per 1,000 people\n",
            "In Bristol, there is 19.12 accidents per 1,000 people\n",
            "In Malvern Hills, there is 19.09 accidents per 1,000 people\n",
            "In Bexley, there is 19.07 accidents per 1,000 people\n",
            "In East Devon, there is 18.95 accidents per 1,000 people\n",
            "In Three Rivers, there is 18.89 accidents per 1,000 people\n",
            "In North Norfolk, there is 18.76 accidents per 1,000 people\n",
            "In Melton, there is 18.73 accidents per 1,000 people\n",
            "In High Peak, there is 18.72 accidents per 1,000 people\n",
            "In Sutton, there is 18.71 accidents per 1,000 people\n",
            "In Sunderland, there is 18.65 accidents per 1,000 people\n",
            "In Colchester, there is 18.64 accidents per 1,000 people\n",
            "In Plymouth, there is 18.63 accidents per 1,000 people\n",
            "In Gedling, there is 18.61 accidents per 1,000 people\n",
            "In Mendip, there is 18.57 accidents per 1,000 people\n",
            "In Knowsley, there is 18.54 accidents per 1,000 people\n",
            "In Nuneaton and Bedworth, there is 18.43 accidents per 1,000 people\n",
            "In Wyre Forest, there is 18.41 accidents per 1,000 people\n",
            "In North East Derbyshire, there is 18.34 accidents per 1,000 people\n",
            "In Vale of White Horse, there is 18.32 accidents per 1,000 people\n",
            "In Northamptonshire, there is 18.22 accidents per 1,000 people\n",
            "In Tendring, there is 18.10 accidents per 1,000 people\n",
            "In Chelmsford, there is 17.96 accidents per 1,000 people\n",
            "In Rushmoor, there is 17.86 accidents per 1,000 people\n",
            "In Salford, there is 17.84 accidents per 1,000 people\n",
            "In Staffordshire Moorlands, there is 17.67 accidents per 1,000 people\n",
            "In Chesterfield, there is 17.60 accidents per 1,000 people\n",
            "In Somerset West and Taunton, there is 17.57 accidents per 1,000 people\n",
            "In West Oxfordshire, there is 17.56 accidents per 1,000 people\n",
            "In Wirral, there is 17.45 accidents per 1,000 people\n",
            "In Amber Valley, there is 17.38 accidents per 1,000 people\n",
            "In Bolton, there is 17.26 accidents per 1,000 people\n",
            "In Torridge, there is 17.17 accidents per 1,000 people\n",
            "In Windsor and Maidenhead, there is 17.12 accidents per 1,000 people\n",
            "In East Hertfordshire, there is 17.02 accidents per 1,000 people\n",
            "In Watford, there is 16.94 accidents per 1,000 people\n",
            "In Buckinghamshire, there is 16.90 accidents per 1,000 people\n",
            "In Gosport, there is 16.79 accidents per 1,000 people\n",
            "In South Gloucestershire, there is 16.74 accidents per 1,000 people\n",
            "In South Somerset, there is 16.69 accidents per 1,000 people\n",
            "In Hinckley and Bosworth, there is 16.64 accidents per 1,000 people\n",
            "In Cannock Chase, there is 16.55 accidents per 1,000 people\n",
            "In South Tyneside, there is 16.52 accidents per 1,000 people\n",
            "In Erewash, there is 16.50 accidents per 1,000 people\n",
            "In Exeter, there is 16.43 accidents per 1,000 people\n",
            "In Solihull, there is 16.39 accidents per 1,000 people\n",
            "In Torbay, there is 16.37 accidents per 1,000 people\n",
            "In Oldham, there is 16.36 accidents per 1,000 people\n",
            "In North Somerset, there is 16.22 accidents per 1,000 people\n",
            "In East Suffolk, there is 16.19 accidents per 1,000 people\n",
            "In St. Helens, there is 16.17 accidents per 1,000 people\n",
            "In West Berkshire, there is 16.12 accidents per 1,000 people\n",
            "In Braintree, there is 15.96 accidents per 1,000 people\n",
            "In Mid Devon, there is 15.93 accidents per 1,000 people\n",
            "In South Oxfordshire, there is 15.91 accidents per 1,000 people\n",
            "In Maldon, there is 15.86 accidents per 1,000 people\n",
            "In Dudley, there is 15.65 accidents per 1,000 people\n",
            "In Harborough, there is 15.64 accidents per 1,000 people\n",
            "In North Tyneside, there is 15.62 accidents per 1,000 people\n",
            "In Rochdale, there is 15.58 accidents per 1,000 people\n",
            "In Reading, there is 15.44 accidents per 1,000 people\n",
            "In Broxbourne, there is 15.30 accidents per 1,000 people\n",
            "In Charnwood, there is 15.08 accidents per 1,000 people\n",
            "In Southend-on-Sea, there is 14.98 accidents per 1,000 people\n",
            "In Harrow, there is 14.90 accidents per 1,000 people\n",
            "In Basildon, there is 14.89 accidents per 1,000 people\n",
            "In Stockton-on-Tees, there is 14.71 accidents per 1,000 people\n",
            "In Tameside, there is 14.68 accidents per 1,000 people\n",
            "In Stevenage, there is 14.66 accidents per 1,000 people\n",
            "In Gloucester, there is 14.59 accidents per 1,000 people\n",
            "In Hartlepool, there is 14.52 accidents per 1,000 people\n",
            "In Dacorum, there is 14.24 accidents per 1,000 people\n",
            "In Worcester, there is 14.17 accidents per 1,000 people\n",
            "In Redditch, there is 14.15 accidents per 1,000 people\n",
            "In Castle Point, there is 14.09 accidents per 1,000 people\n",
            "In Forest of Dean, there is 13.94 accidents per 1,000 people\n",
            "In Rochford, there is 13.92 accidents per 1,000 people\n",
            "In Telford and Wrekin, there is 13.66 accidents per 1,000 people\n",
            "In Redcar and Cleveland, there is 13.42 accidents per 1,000 people\n",
            "In Bath and North East Somerset, there is 13.25 accidents per 1,000 people\n",
            "In Trafford, there is 12.87 accidents per 1,000 people\n",
            "In Stroud, there is 12.45 accidents per 1,000 people\n",
            "In Oadby and Wigston, there is 12.38 accidents per 1,000 people\n",
            "In Bracknell Forest, there is 12.31 accidents per 1,000 people\n",
            "In Wokingham, there is 12.29 accidents per 1,000 people\n",
            "In Tamworth, there is 12.12 accidents per 1,000 people\n",
            "In Cheltenham, there is 11.68 accidents per 1,000 people\n",
            "In Stockport, there is 11.68 accidents per 1,000 people\n",
            "In Harlow, there is 11.44 accidents per 1,000 people\n",
            "In Wigan, there is 10.88 accidents per 1,000 people\n",
            "In West Suffolk, there is 6.68 accidents per 1,000 people\n"
          ]
        }
      ]
    },
    {
      "cell_type": "code",
      "source": [
        "# Filtering the dictionary to only include the cities of interest\n",
        "accidents_per_capita_subset = {city: acc_per_capita for city, acc_per_capita in accidents_per_capita.items() if city in cities}\n",
        "\n",
        "# Sorting the filtered dictionary by values in descending order\n",
        "accidents_per_capita_subset_sorted = dict(sorted(accidents_per_capita_subset.items(), key=lambda x: x[1], reverse=True))\n",
        "\n",
        "for city, acc_per_capita in accidents_per_capita_subset_sorted.items():\n",
        "    print(f\"In {city}, there is {acc_per_capita:.2f} accidents per 1,000 people\")"
      ],
      "metadata": {
        "colab": {
          "base_uri": "https://localhost:8080/"
        },
        "id": "SGdFEbH-Lvna",
        "outputId": "61a968d4-c1b1-4ea4-a358-8e6181b00b66"
      },
      "execution_count": null,
      "outputs": [
        {
          "output_type": "stream",
          "name": "stdout",
          "text": [
            "In Liverpool, there is 23.96 accidents per 1,000 people\n",
            "In Sheffield, there is 23.07 accidents per 1,000 people\n",
            "In Manchester, there is 20.71 accidents per 1,000 people\n"
          ]
        }
      ]
    },
    {
      "cell_type": "code",
      "source": [
        "accidents_per_capita_series = pd.Series(accidents_per_capita_sorted)\n",
        "\n",
        "# Rank of Manchester, Sheffield and Liverpool\n",
        "rankings = accidents_per_capita_series.rank(ascending=False)\n",
        "print(\"Rankings:\")\n",
        "print(rankings.loc[['Manchester', 'Sheffield', 'Liverpool']])"
      ],
      "metadata": {
        "colab": {
          "base_uri": "https://localhost:8080/"
        },
        "id": "SJlGRlQprzi0",
        "outputId": "4f7bdb73-92f3-49f2-b994-eb73243b7514"
      },
      "execution_count": null,
      "outputs": [
        {
          "output_type": "stream",
          "name": "stdout",
          "text": [
            "Rankings:\n",
            "Manchester    183.0\n",
            "Sheffield     136.0\n",
            "Liverpool     113.0\n",
            "dtype: float64\n"
          ]
        }
      ]
    },
    {
      "cell_type": "code",
      "source": [
        "print(accidents['date'].dtype)  \n",
        "accidents['date'] = pd.to_datetime(accidents['date'])  \n",
        "print(accidents['date'].dtype)  \n",
        "\n",
        "year = accidents['date'].dt.year.unique()\n",
        "print(year)"
      ],
      "metadata": {
        "colab": {
          "base_uri": "https://localhost:8080/"
        },
        "id": "gigWRFNf8gmC",
        "outputId": "46f37fff-2483-421b-d004-d53ac099cf9a"
      },
      "execution_count": null,
      "outputs": [
        {
          "output_type": "stream",
          "name": "stdout",
          "text": [
            "object\n",
            "datetime64[ns]\n",
            "[2016 2017 2018 2019 2020]\n"
          ]
        }
      ]
    },
    {
      "cell_type": "code",
      "source": [
        "accidents_per_capita_subset = accidents_per_capita.loc[cities]\n",
        "\n",
        "fig, ax = plt.subplots(figsize=(8, 6))\n",
        "bars = ax.bar(accidents_per_capita_subset.index, accidents_per_capita_subset.values, color=[city_colours[c] for c in accidents_per_capita_subset.index])\n",
        "\n",
        "# title and axis labels\n",
        "ax.set_title('Accidents per 1,000 people by city (2016-2020)')\n",
        "ax.set_xlabel('City')\n",
        "ax.set_ylabel('Accidents per 1,000 people')\n",
        "\n",
        "for bar in bars:\n",
        "    height = bar.get_height()\n",
        "    ax.text(bar.get_x() + bar.get_width() / 2, height, f'{height:.0f}', ha='center', va='bottom')\n",
        "\n",
        "plt.show()"
      ],
      "metadata": {
        "colab": {
          "base_uri": "https://localhost:8080/",
          "height": 564
        },
        "id": "p4fyC3Wb0VjQ",
        "outputId": "52d19b8c-8b1b-48f6-f28b-0c213b9a4630"
      },
      "execution_count": null,
      "outputs": [
        {
          "output_type": "display_data",
          "data": {
            "text/plain": [
              "<Figure size 800x600 with 1 Axes>"
            ],
            "image/png": "[encoded data removed]"
          },
          "metadata": {}
        }
      ]
    },
    {
      "cell_type": "markdown",
      "source": [
        "Manchester"
      ],
      "metadata": {
        "id": "TlUzvmrHfYzQ"
      }
    },
    {
      "cell_type": "code",
      "source": [
        "# Filtering the accidents dataframe to only include accidents in Manchester\n",
        "manchester_accidents = accidents[accidents['city'] == 'Manchester']\n",
        "\n",
        "# Grouping the filtered dataframe by year and count the number of accidents per year\n",
        "accidents_per_year_man = manchester_accidents.groupby(pd.Grouper(key='date', freq='Y')).size()\n",
        "\n",
        "print(accidents_per_year_man)"
      ],
      "metadata": {
        "colab": {
          "base_uri": "https://localhost:8080/"
        },
        "id": "TxWyMafnfYTe",
        "outputId": "bc57c2b6-fe2b-4ca9-fe1f-f33302073a9a"
      },
      "execution_count": null,
      "outputs": [
        {
          "output_type": "stream",
          "name": "stdout",
          "text": [
            "date\n",
            "2016-12-31    1735\n",
            "2017-12-31    2731\n",
            "2018-12-31    2630\n",
            "2019-12-31    2423\n",
            "2020-12-31    1460\n",
            "Freq: A-DEC, dtype: int64\n"
          ]
        }
      ]
    },
    {
      "cell_type": "code",
      "source": [
        "# Filtering the census dataframe to only include data for Manchester\n",
        "manchester_census = census[census['city'] == 'Manchester']\n",
        "\n",
        "# Grouping the filtered dataframe by city and sum the observations\n",
        "population_man = manchester_census.groupby('city')['Observation'].sum()\n",
        "\n",
        "print(population_man)"
      ],
      "metadata": {
        "colab": {
          "base_uri": "https://localhost:8080/"
        },
        "id": "nOQSx8mJLiTI",
        "outputId": "736a6bf9-0cf3-4162-e5f3-0143602f7bc0"
      },
      "execution_count": null,
      "outputs": [
        {
          "output_type": "stream",
          "name": "stdout",
          "text": [
            "city\n",
            "Manchester    530136\n",
            "Name: Observation, dtype: int64\n"
          ]
        }
      ]
    },
    {
      "cell_type": "code",
      "source": [
        "# Calculating the accidents per capita in Manchester per year\n",
        "accidents_per_capita_man = accidents_per_year_man / population_man.values * 1000\n",
        "\n",
        "print(accidents_per_capita_man)"
      ],
      "metadata": {
        "colab": {
          "base_uri": "https://localhost:8080/"
        },
        "id": "iJVGTj0tMoa2",
        "outputId": "b0011be9-4d92-427d-f9df-ca24e1a94d81"
      },
      "execution_count": null,
      "outputs": [
        {
          "output_type": "stream",
          "name": "stdout",
          "text": [
            "date\n",
            "2016-12-31    3.272745\n",
            "2017-12-31    5.151508\n",
            "2018-12-31    4.960991\n",
            "2019-12-31    4.570525\n",
            "2020-12-31    2.754010\n",
            "Freq: A-DEC, dtype: float64\n"
          ]
        }
      ]
    },
    {
      "cell_type": "code",
      "source": [
        "# Sorting the accidents per capita in descending order\n",
        "accidents_per_capita_man_sorted = accidents_per_capita_man.sort_values(ascending=False)\n",
        "\n",
        "for year, accidents_per_capita_year_man in accidents_per_capita_man_sorted.iteritems():\n",
        "    print(f\"In year {year.year}, Manchester had {accidents_per_capita_year_man:.2f} accidents per 1,000 people\")"
      ],
      "metadata": {
        "colab": {
          "base_uri": "https://localhost:8080/"
        },
        "id": "-PhxzKf0M9fr",
        "outputId": "f07cec7b-0140-4855-c97d-c2ec40a90dba"
      },
      "execution_count": null,
      "outputs": [
        {
          "output_type": "stream",
          "name": "stdout",
          "text": [
            "In year 2017, Manchester had 5.15 accidents per 1,000 people\n",
            "In year 2018, Manchester had 4.96 accidents per 1,000 people\n",
            "In year 2019, Manchester had 4.57 accidents per 1,000 people\n",
            "In year 2016, Manchester had 3.27 accidents per 1,000 people\n",
            "In year 2020, Manchester had 2.75 accidents per 1,000 people\n"
          ]
        },
        {
          "output_type": "stream",
          "name": "stderr",
          "text": [
            "<ipython-input-45-7dc3f1f14e2d>:4: FutureWarning: iteritems is deprecated and will be removed in a future version. Use .items instead.\n",
            "  for year, accidents_per_capita_year_man in accidents_per_capita_man_sorted.iteritems():\n"
          ]
        }
      ]
    },
    {
      "cell_type": "code",
      "source": [
        "manchester_color = city_colours['Manchester']\n",
        "\n",
        "ax = accidents_per_capita_man.plot(kind='bar', color=manchester_color)\n",
        "\n",
        "# title and axis labels\n",
        "ax.set_title('Manchester accidents per 1,000 people')\n",
        "ax.set_xlabel('Year')\n",
        "ax.set_ylabel('Accidents per 1,000 people')\n",
        "\n",
        "ax.set_xticklabels([year.year for year in accidents_per_capita_man.index])\n",
        "\n",
        "for rect in ax.containers[0]:\n",
        "    height = rect.get_height()\n",
        "    ax.annotate(f'{height:.0f}', xy=(rect.get_x() + rect.get_width() / 2, height), xytext=(0, 3), textcoords=\"offset points\", ha='center', va='bottom')\n",
        "\n",
        "plt.show()"
      ],
      "metadata": {
        "colab": {
          "base_uri": "https://localhost:8080/",
          "height": 493
        },
        "id": "AzyYYCpWNmZM",
        "outputId": "723378cb-507c-4a91-cabb-1cbef85c07c9"
      },
      "execution_count": null,
      "outputs": [
        {
          "output_type": "display_data",
          "data": {
            "text/plain": [
              "<Figure size 640x480 with 1 Axes>"
            ],
            "image/png": "[encoded data removed]"
          },
          "metadata": {}
        }
      ]
    },
    {
      "cell_type": "markdown",
      "source": [
        "Liverpool"
      ],
      "metadata": {
        "id": "NIpCH2_xK_JJ"
      }
    },
    {
      "cell_type": "code",
      "source": [
        "# Filtering the accidents dataframe to only include accidents in Liverpool\n",
        "liverpool_accidents = accidents[accidents['city'] == 'Liverpool']\n",
        "\n",
        "# Grouping the filtered dataframe by year and count the number of accidents per year\n",
        "accidents_per_year_liv = liverpool_accidents.groupby(pd.Grouper(key='date', freq='Y')).size()\n",
        "\n",
        "print(accidents_per_year_liv)"
      ],
      "metadata": {
        "colab": {
          "base_uri": "https://localhost:8080/"
        },
        "id": "rnuvvJ6cLCHB",
        "outputId": "0badf224-ad32-4e26-d133-24a579e174a6"
      },
      "execution_count": null,
      "outputs": [
        {
          "output_type": "stream",
          "name": "stdout",
          "text": [
            "date\n",
            "2016-12-31    2955\n",
            "2017-12-31    2258\n",
            "2018-12-31    2165\n",
            "2019-12-31    2092\n",
            "2020-12-31    1643\n",
            "Freq: A-DEC, dtype: int64\n"
          ]
        }
      ]
    },
    {
      "cell_type": "code",
      "source": [
        "# Filtering the census dataframe to only include data for Liverpool\n",
        "liverpool_census = census[census['city'] == 'Liverpool']\n",
        "\n",
        "# Grouping the filtered dataframe by city and sum the observations\n",
        "population_liv = liverpool_census.groupby('city')['Observation'].sum()\n",
        "\n",
        "print(population_liv)"
      ],
      "metadata": {
        "id": "q4iylvsgLquP",
        "colab": {
          "base_uri": "https://localhost:8080/"
        },
        "outputId": "62ba8c21-8533-45b4-e038-4636232e4f20"
      },
      "execution_count": null,
      "outputs": [
        {
          "output_type": "stream",
          "name": "stdout",
          "text": [
            "city\n",
            "Liverpool    463876\n",
            "Name: Observation, dtype: int64\n"
          ]
        }
      ]
    },
    {
      "cell_type": "code",
      "source": [
        "# Calculating the accidents per capita in Liverpool per year\n",
        "accidents_per_capita_liv = accidents_per_year_liv / population_liv.values * 1000\n",
        "\n",
        "print(accidents_per_capita_liv)"
      ],
      "metadata": {
        "id": "icUox_YlOy-8",
        "colab": {
          "base_uri": "https://localhost:8080/"
        },
        "outputId": "97d465a5-db78-49c6-8711-923e0b18c122"
      },
      "execution_count": null,
      "outputs": [
        {
          "output_type": "stream",
          "name": "stdout",
          "text": [
            "date\n",
            "2016-12-31    6.370237\n",
            "2017-12-31    4.867680\n",
            "2018-12-31    4.667196\n",
            "2019-12-31    4.509826\n",
            "2020-12-31    3.541895\n",
            "Freq: A-DEC, dtype: float64\n"
          ]
        }
      ]
    },
    {
      "cell_type": "code",
      "source": [
        "# Sorting the accidents per capita in descending order\n",
        "accidents_per_capita_liv_sorted = accidents_per_capita_liv.sort_values(ascending=False)\n",
        "\n",
        "for year, accidents_per_capita_year_liv in accidents_per_capita_liv_sorted.iteritems():\n",
        "    print(f\"In year {year.year}, Liverpool had {accidents_per_capita_year_liv:.2f} accidents per 1,000 people\")"
      ],
      "metadata": {
        "id": "KA57so5mPK9c",
        "colab": {
          "base_uri": "https://localhost:8080/"
        },
        "outputId": "dfb7fba1-16ce-4a7f-e123-942681320542"
      },
      "execution_count": null,
      "outputs": [
        {
          "output_type": "stream",
          "name": "stdout",
          "text": [
            "In year 2016, Liverpool had 6.37 accidents per 1,000 people\n",
            "In year 2017, Liverpool had 4.87 accidents per 1,000 people\n",
            "In year 2018, Liverpool had 4.67 accidents per 1,000 people\n",
            "In year 2019, Liverpool had 4.51 accidents per 1,000 people\n",
            "In year 2020, Liverpool had 3.54 accidents per 1,000 people\n"
          ]
        },
        {
          "output_type": "stream",
          "name": "stderr",
          "text": [
            "<ipython-input-50-aca7af934bfe>:4: FutureWarning: iteritems is deprecated and will be removed in a future version. Use .items instead.\n",
            "  for year, accidents_per_capita_year_liv in accidents_per_capita_liv_sorted.iteritems():\n"
          ]
        }
      ]
    },
    {
      "cell_type": "code",
      "source": [
        "liverpool_color = city_colours['Liverpool']\n",
        "\n",
        "# Creating a bar plot of the accidents per capita in Liverpool per year\n",
        "ax = accidents_per_capita_liv.plot(kind='bar', color=liverpool_color)\n",
        "\n",
        "ax.set_title('Liverpool accidents per 1,000 people')\n",
        "ax.set_xlabel('Year')\n",
        "ax.set_ylabel('Accidents per 1,000 people')\n",
        "\n",
        "ax.set_xticklabels([year.year for year in accidents_per_capita_liv.index])\n",
        "\n",
        "for rect in ax.containers[0]:\n",
        "    height = rect.get_height()\n",
        "    ax.annotate(f'{height:.0f}', xy=(rect.get_x() + rect.get_width() / 2, height), xytext=(0, 3), textcoords=\"offset points\", ha='center', va='bottom')\n",
        "\n",
        "# Show the plot\n",
        "plt.show()"
      ],
      "metadata": {
        "id": "XDUbRiJZPfbi",
        "colab": {
          "base_uri": "https://localhost:8080/",
          "height": 493
        },
        "outputId": "0fad1296-195e-45ab-e1e8-71af9e1f62a7"
      },
      "execution_count": null,
      "outputs": [
        {
          "output_type": "display_data",
          "data": {
            "text/plain": [
              "<Figure size 640x480 with 1 Axes>"
            ],
            "image/png": "[encoded data removed]"
          },
          "metadata": {}
        }
      ]
    },
    {
      "cell_type": "markdown",
      "source": [
        "Sheffield"
      ],
      "metadata": {
        "id": "tv2RR9b4K_Al"
      }
    },
    {
      "cell_type": "code",
      "source": [
        "# Filtering the accidents dataframe to only include accidents in Sheffield\n",
        "sheffield_accidents = accidents[accidents['city'] == 'Sheffield']\n",
        "\n",
        "# Grouping the filtered dataframe by year and count the number of accidents per year\n",
        "accidents_per_year_shef = sheffield_accidents.groupby(pd.Grouper(key='date', freq='Y')).size()\n",
        "\n",
        "print(accidents_per_year_shef)"
      ],
      "metadata": {
        "id": "CpU3rg0YLN_-",
        "colab": {
          "base_uri": "https://localhost:8080/"
        },
        "outputId": "178180c1-25e6-4d95-8cb3-c63433ca055c"
      },
      "execution_count": null,
      "outputs": [
        {
          "output_type": "stream",
          "name": "stdout",
          "text": [
            "date\n",
            "2016-12-31    3126\n",
            "2017-12-31    2711\n",
            "2018-12-31    2473\n",
            "2019-12-31    2226\n",
            "2020-12-31    1825\n",
            "Freq: A-DEC, dtype: int64\n"
          ]
        }
      ]
    },
    {
      "cell_type": "code",
      "source": [
        "# Filtering the census dataframe to only include data for Sheffield\n",
        "sheffield_census = census[census['city'] == 'Sheffield']\n",
        "\n",
        "# Grouping the filtered dataframe by city and sum the observations\n",
        "population_shef = sheffield_census.groupby('city')['Observation'].sum()\n",
        "\n",
        "print(population_shef)"
      ],
      "metadata": {
        "id": "WZKg7G4pLxLW",
        "colab": {
          "base_uri": "https://localhost:8080/"
        },
        "outputId": "2e5ee878-a7b2-488a-c9b9-ee21f50871a4"
      },
      "execution_count": null,
      "outputs": [
        {
          "output_type": "stream",
          "name": "stdout",
          "text": [
            "city\n",
            "Sheffield    535893\n",
            "Name: Observation, dtype: int64\n"
          ]
        }
      ]
    },
    {
      "cell_type": "code",
      "source": [
        "# Calculating the accidents per capita in Sheffield per year\n",
        "accidents_per_capita_shef = accidents_per_year_shef / population_shef.values * 1000\n",
        "\n",
        "print(accidents_per_capita_shef)"
      ],
      "metadata": {
        "id": "vUJ3AfviPLtz",
        "colab": {
          "base_uri": "https://localhost:8080/"
        },
        "outputId": "d100f490-eae3-4553-f276-bb01da3d1a78"
      },
      "execution_count": null,
      "outputs": [
        {
          "output_type": "stream",
          "name": "stdout",
          "text": [
            "date\n",
            "2016-12-31    5.833254\n",
            "2017-12-31    5.058846\n",
            "2018-12-31    4.614727\n",
            "2019-12-31    4.153814\n",
            "2020-12-31    3.405531\n",
            "Freq: A-DEC, dtype: float64\n"
          ]
        }
      ]
    },
    {
      "cell_type": "code",
      "source": [
        "# Sorting the accidents per capita in descending order\n",
        "accidents_per_capita_shef_sorted = accidents_per_capita_shef.sort_values(ascending=False)\n",
        "\n",
        "for year, accidents_per_capita_year_shef in accidents_per_capita_shef_sorted.iteritems():\n",
        "    print(f\"In year {year.year}, Sheffield had {accidents_per_capita_year_shef:.2f} accidents per 1,000 people\")"
      ],
      "metadata": {
        "id": "hS4rAlSuPZD-",
        "colab": {
          "base_uri": "https://localhost:8080/"
        },
        "outputId": "05496acc-b53d-44a9-95dd-72bf03aa24ce"
      },
      "execution_count": null,
      "outputs": [
        {
          "output_type": "stream",
          "name": "stdout",
          "text": [
            "In year 2016, Sheffield had 5.83 accidents per 1,000 people\n",
            "In year 2017, Sheffield had 5.06 accidents per 1,000 people\n",
            "In year 2018, Sheffield had 4.61 accidents per 1,000 people\n",
            "In year 2019, Sheffield had 4.15 accidents per 1,000 people\n",
            "In year 2020, Sheffield had 3.41 accidents per 1,000 people\n"
          ]
        },
        {
          "output_type": "stream",
          "name": "stderr",
          "text": [
            "<ipython-input-55-05ca34a49f4f>:4: FutureWarning: iteritems is deprecated and will be removed in a future version. Use .items instead.\n",
            "  for year, accidents_per_capita_year_shef in accidents_per_capita_shef_sorted.iteritems():\n"
          ]
        }
      ]
    },
    {
      "cell_type": "code",
      "source": [
        "sheffield_color = city_colours['Sheffield']\n",
        "\n",
        "# Creating a bar plot of the accidents per capita in Sheffield per year\n",
        "ax = accidents_per_capita_shef.plot(kind='bar', color=sheffield_color)\n",
        "\n",
        "ax.set_title('Sheffield accidents per 1,000 people')\n",
        "ax.set_xlabel('Year')\n",
        "ax.set_ylabel('Accidents per 1,000 people')\n",
        "\n",
        "ax.set_xticklabels([year.year for year in accidents_per_capita_shef.index])\n",
        "\n",
        "for rect in ax.containers[0]:\n",
        "    height = rect.get_height()\n",
        "    ax.annotate(f'{height:.0f}', xy=(rect.get_x() + rect.get_width() / 2, height), xytext=(0, 3), textcoords=\"offset points\", ha='center', va='bottom')\n",
        "\n",
        "plt.show()"
      ],
      "metadata": {
        "id": "_4vnKmMdPrOY",
        "colab": {
          "base_uri": "https://localhost:8080/",
          "height": 493
        },
        "outputId": "687e2732-4fdb-4e83-d37e-0082e68c1064"
      },
      "execution_count": null,
      "outputs": [
        {
          "output_type": "display_data",
          "data": {
            "text/plain": [
              "<Figure size 640x480 with 1 Axes>"
            ],
            "image/png": "[encoded data removed]"
          },
          "metadata": {}
        }
      ]
    },
    {
      "cell_type": "markdown",
      "source": [
        "CHILDREN"
      ],
      "metadata": {
        "id": "QJ51IzsOK0ke"
      }
    },
    {
      "cell_type": "code",
      "source": [
        "# age range categories\n",
        "age_ranges = {\n",
        "    1: 'Aged 15 years and under',\n",
        "    2: 'Aged 16 to 24 years',\n",
        "    3: 'Aged 25 to 34 years',\n",
        "    4: 'Aged 35 to 49 years',\n",
        "    5: 'Aged 50 to 64 years',\n",
        "    6: 'Aged 65 years and over'\n",
        "}\n",
        "\n",
        "# new column 'age_range' based on the age_of_casualty column\n",
        "accidents['Age (6 categories)'] = pd.cut(\n",
        "    accidents['age_of_casualty'], \n",
        "    bins=[0, 15, 24, 34, 49, 64, 150], \n",
        "    labels=[age_ranges[i] for i in range(1,7)]\n",
        ")"
      ],
      "metadata": {
        "id": "8HDfti7LK1rQ"
      },
      "execution_count": null,
      "outputs": []
    },
    {
      "cell_type": "code",
      "source": [
        "# Counting the missing values in the 'col_name' column before filling with 'unknown'\n",
        "num_missing = accidents['Age (6 categories)'].isna().sum()\n",
        "\n",
        "print(f\"There are {num_missing} missing values in the 'col_name' column.\")"
      ],
      "metadata": {
        "colab": {
          "base_uri": "https://localhost:8080/"
        },
        "id": "x_L7_GcZPcI_",
        "outputId": "ea99c56f-863a-4db2-d5c8-2d89b21ba5e6"
      },
      "execution_count": null,
      "outputs": [
        {
          "output_type": "stream",
          "name": "stdout",
          "text": [
            "There are 159868 missing values in the 'col_name' column.\n"
          ]
        }
      ]
    },
    {
      "cell_type": "code",
      "source": [
        "# children group\n",
        "age_group = 'Aged 15 years and under'\n",
        "\n",
        "# Filtering the accidents dataset to include only the age group of interest\n",
        "accidents_age_group = accidents[accidents['Age (6 categories)'].isin([age_group])]\n",
        "\n",
        "# Filling missing values in the 'Age (6 categories)' column with 'Unknown'\n",
        "accidents_age_group['Age (6 categories)'].fillna('Unknown', inplace=True)\n",
        "\n",
        "# Grouping the filtered dataset by city and count the number of accidents\n",
        "accidents_per_city_age_group = accidents_age_group.groupby('city')['accident_reference'].count()\n",
        "\n",
        "# Calculating the accidents per capita using the population data from the census dataset\n",
        "population_per_city_15_and_under = census[census['Age (6 categories)'].isin([age_group])].groupby('city')['Observation'].sum()\n",
        "accidents_per_capita_age_group = (accidents_per_city_age_group / population_per_city_15_and_under) * 1000\n",
        "\n",
        "# Sorting the dictionary by values in descending order\n",
        "accidents_per_capita_age_group_sorted = dict(sorted(accidents_per_capita_age_group.items(), key=lambda x: x[1], reverse=True))\n",
        "\n",
        "# top 15 cities with the highest accidents per capita\n",
        "print(f\"Top 15 cities with the highest accidents per 1,000 people for 15 and under age group '{age_group}':\")\n",
        "for city, acc_per_capita_15 in list(accidents_per_capita_age_group_sorted.items())[:15]:\n",
        "    print(f\"In {city}, there is {acc_per_capita_15:.2f} accidents per 1,000 people\")"
      ],
      "metadata": {
        "colab": {
          "base_uri": "https://localhost:8080/"
        },
        "id": "TBQUTS0sPkog",
        "outputId": "b754d57f-c49f-4a7f-cc32-32d1b8834621"
      },
      "execution_count": null,
      "outputs": [
        {
          "output_type": "stream",
          "name": "stdout",
          "text": [
            "Top 15 cities with the highest accidents per 1,000 people for 15 and under age group 'Aged 15 years and under':\n",
            "In City of London, there is 27.17 accidents per 1,000 people\n",
            "In East Lindsey, there is 22.93 accidents per 1,000 people\n",
            "In Ryedale, there is 20.22 accidents per 1,000 people\n",
            "In North East Lincolnshire, there is 20.18 accidents per 1,000 people\n",
            "In North Warwickshire, there is 19.33 accidents per 1,000 people\n",
            "In Sevenoaks, there is 17.55 accidents per 1,000 people\n",
            "In Blackpool, there is 16.83 accidents per 1,000 people\n",
            "In Kingston upon Hull, there is 16.65 accidents per 1,000 people\n",
            "In Runnymede, there is 16.14 accidents per 1,000 people\n",
            "In Tandridge, there is 16.02 accidents per 1,000 people\n",
            "In Hyndburn, there is 15.54 accidents per 1,000 people\n",
            "In Doncaster, there is 15.26 accidents per 1,000 people\n",
            "In Preston, there is 15.20 accidents per 1,000 people\n",
            "In Boston, there is 14.86 accidents per 1,000 people\n",
            "In West Lindsey, there is 14.79 accidents per 1,000 people\n"
          ]
        },
        {
          "output_type": "stream",
          "name": "stderr",
          "text": [
            "<ipython-input-59-2d5e7726ebcd>:8: SettingWithCopyWarning: \n",
            "A value is trying to be set on a copy of a slice from a DataFrame\n",
            "\n",
            "See the caveats in the documentation: https://pandas.pydata.org/pandas-docs/stable/user_guide/indexing.html#returning-a-view-versus-a-copy\n",
            "  accidents_age_group['Age (6 categories)'].fillna('Unknown', inplace=True)\n"
          ]
        }
      ]
    },
    {
      "cell_type": "code",
      "source": [
        "accidents_per_capita_age_group_cities = {city: acc_per_capita_15 for city, acc_per_capita_15 in accidents_per_capita_age_group_sorted.items() if city in cities}\n",
        "\n",
        "print(f\"Accidents per 1,000 people for {age_group} in Manchester, Liverpool, and Sheffield:\")\n",
        "for city, acc_per_capita_15 in accidents_per_capita_age_group_cities.items():\n",
        "    print(f\"In {city}, there is {acc_per_capita_15:.2f} accidents per 1,000 people\")"
      ],
      "metadata": {
        "colab": {
          "base_uri": "https://localhost:8080/"
        },
        "id": "ISXaML1JRO7I",
        "outputId": "a2a76278-b039-4256-c48d-8c44e1913bbd"
      },
      "execution_count": null,
      "outputs": [
        {
          "output_type": "stream",
          "name": "stdout",
          "text": [
            "Accidents per 1,000 people for Aged 15 years and under in Manchester, Liverpool, and Sheffield:\n",
            "In Liverpool, there is 13.34 accidents per 1,000 people\n",
            "In Sheffield, there is 10.81 accidents per 1,000 people\n",
            "In Manchester, there is 9.01 accidents per 1,000 people\n"
          ]
        }
      ]
    },
    {
      "cell_type": "code",
      "source": [
        "accidents_per_capita_series_age = pd.Series(accidents_per_capita_age_group_sorted)\n",
        "\n",
        "# rank of Manchester, Sheffield and Liverpool for accidents involving children\n",
        "rankings = accidents_per_capita_series_age.rank(ascending=False)\n",
        "print(\"Rankings:\")\n",
        "print(rankings.loc[['Manchester', 'Sheffield', 'Liverpool']])"
      ],
      "metadata": {
        "colab": {
          "base_uri": "https://localhost:8080/"
        },
        "id": "aATlE8pUTWAL",
        "outputId": "4adc4d18-ffc5-4c4a-da21-b38ef1af9bd8"
      },
      "execution_count": null,
      "outputs": [
        {
          "output_type": "stream",
          "name": "stdout",
          "text": [
            "Rankings:\n",
            "Manchester    136.0\n",
            "Sheffield      72.0\n",
            "Liverpool      31.0\n",
            "dtype: float64\n"
          ]
        }
      ]
    },
    {
      "cell_type": "code",
      "source": [
        "accidents_per_capita_series_age_cities = pd.Series(accidents_per_capita_age_group_cities)\n",
        "\n",
        "fig, ax = plt.subplots(figsize=(8, 6))\n",
        "ax.bar(accidents_per_capita_series_age_cities.index, accidents_per_capita_series_age_cities.values, color=[city_colours.get(city) for city in accidents_per_capita_series_age_cities.index])\n",
        "ax.set_title(f\"Accidents per 1,000 children by city\")\n",
        "ax.set_xlabel(\"City\")\n",
        "ax.set_ylabel(\"Accidents per 1,000 children\")\n",
        "\n",
        "for rect in ax.containers[0]:\n",
        "    height = rect.get_height()\n",
        "    ax.annotate(f'{height:.0f}', xy=(rect.get_x() + rect.get_width() / 2, height), xytext=(0, 3), textcoords=\"offset points\", ha='center', va='bottom')\n",
        "\n",
        "plt.show()"
      ],
      "metadata": {
        "colab": {
          "base_uri": "https://localhost:8080/",
          "height": 564
        },
        "id": "40tenGpYVG6Y",
        "outputId": "f1163848-9e15-428c-98e3-e80d8f212bee"
      },
      "execution_count": null,
      "outputs": [
        {
          "output_type": "display_data",
          "data": {
            "text/plain": [
              "<Figure size 800x600 with 1 Axes>"
            ],
            "image/png": "[encoded data removed]"
          },
          "metadata": {}
        }
      ]
    },
    {
      "cell_type": "code",
      "source": [
        "# Filtering the dataset to include only Manchester\n",
        "manchester_accidents_age_group = accidents_age_group[accidents_age_group['city'] == 'Manchester']\n",
        "\n",
        "manchester_accidents_by_year = manchester_accidents_age_group.groupby(manchester_accidents_age_group['date'].dt.year)['accident_reference'].count()\n",
        "\n",
        "manchester_population_15_and_under = census[(census['Age (6 categories)'] == age_group) & (census['city'] == 'Manchester')]['Observation'].sum()\n",
        "\n",
        "# accidents per capita for each year\n",
        "manchester_accidents_per_capita_by_year = (manchester_accidents_by_year / manchester_population_15_and_under) * 1000\n",
        "\n",
        "fig, ax = plt.subplots(figsize=(8, 6))\n",
        "ax.bar(manchester_accidents_per_capita_by_year.index, manchester_accidents_per_capita_by_year.values, color=city_colours['Manchester'])\n",
        "ax.set_title(f\"Manchester accidents per 1,000 people aged {age_group}\")\n",
        "ax.set_xlabel(\"Year\")\n",
        "ax.set_ylabel(\"Accidents per 1,000 people\")\n",
        "\n",
        "for rect in ax.containers[0]:\n",
        "    height = rect.get_height()\n",
        "    ax.annotate(f'{height:.0f}', xy=(rect.get_x() + rect.get_width() / 2, height), xytext=(0, 3), textcoords=\"offset points\", ha='center', va='bottom')\n",
        "\n",
        "plt.show()"
      ],
      "metadata": {
        "colab": {
          "base_uri": "https://localhost:8080/",
          "height": 564
        },
        "id": "sXHqxM8QW93J",
        "outputId": "96f71ffb-e845-4a86-e6cd-8737c9e9831a"
      },
      "execution_count": null,
      "outputs": [
        {
          "output_type": "display_data",
          "data": {
            "text/plain": [
              "<Figure size 800x600 with 1 Axes>"
            ],
            "image/png": "[encoded data removed]"
          },
          "metadata": {}
        }
      ]
    },
    {
      "cell_type": "code",
      "source": [
        "# Filtering the dataset to include only Liverpool\n",
        "liverpool_accidents_age_group = accidents_age_group[accidents_age_group['city'] == 'Liverpool']\n",
        "\n",
        "liverpool_accidents_by_year = liverpool_accidents_age_group.groupby(liverpool_accidents_age_group['date'].dt.year)['accident_reference'].count()\n",
        "\n",
        "liverpool_population_15_and_under = census[(census['Age (6 categories)'] == age_group) & (census['city'] == 'Liverpool')]['Observation'].sum()\n",
        "\n",
        "# Calculating the accidents per capita for each year\n",
        "liverpool_accidents_per_capita_by_year = (liverpool_accidents_by_year / liverpool_population_15_and_under) * 1000\n",
        "\n",
        "fig, ax = plt.subplots(figsize=(8, 6))\n",
        "ax.bar(liverpool_accidents_per_capita_by_year.index, liverpool_accidents_per_capita_by_year.values, color=city_colours['Liverpool'])\n",
        "ax.set_title(f\"Liverpool accidents per 1,000 people aged {age_group}\")\n",
        "ax.set_xlabel(\"Year\")\n",
        "ax.set_ylabel(\"Accidents per 1,000 people\")\n",
        "\n",
        "for rect in ax.containers[0]:\n",
        "    height = rect.get_height()\n",
        "    ax.annotate(f'{height:.0f}', xy=(rect.get_x() + rect.get_width() / 2, height), xytext=(0, 3), textcoords=\"offset points\", ha='center', va='bottom')\n",
        "\n",
        "plt.show()"
      ],
      "metadata": {
        "colab": {
          "base_uri": "https://localhost:8080/",
          "height": 564
        },
        "id": "azOsNCRGbEqJ",
        "outputId": "6ff00fe0-0b59-4425-b9ee-94cdb7a24fd5"
      },
      "execution_count": null,
      "outputs": [
        {
          "output_type": "display_data",
          "data": {
            "text/plain": [
              "<Figure size 800x600 with 1 Axes>"
            ],
            "image/png": "[encoded data removed]"
          },
          "metadata": {}
        }
      ]
    },
    {
      "cell_type": "code",
      "source": [
        "# Filtering the dataset to include only Sheffield\n",
        "sheffield_accidents_age_group = accidents_age_group[accidents_age_group['city'] == 'Sheffield']\n",
        "\n",
        "sheffield_accidents_by_year = sheffield_accidents_age_group.groupby(sheffield_accidents_age_group['date'].dt.year)['accident_reference'].count()\n",
        "\n",
        "sheffield_population_15_and_under = census[(census['Age (6 categories)'] == age_group) & (census['city'] == 'Sheffield')]['Observation'].sum()\n",
        "\n",
        "# Calculating the accidents per capita for each year\n",
        "sheffield_accidents_per_capita_by_year = (sheffield_accidents_by_year / sheffield_population_15_and_under) * 1000\n",
        "\n",
        "fig, ax = plt.subplots(figsize=(8, 6))\n",
        "ax.bar(sheffield_accidents_per_capita_by_year.index, sheffield_accidents_per_capita_by_year.values, color=city_colours['Sheffield'])\n",
        "ax.set_title(f\"Sheffield accidents per 1,000 people aged {age_group}\")\n",
        "ax.set_xlabel(\"Year\")\n",
        "ax.set_ylabel(\"Accidents per 1,000 people\")\n",
        "\n",
        "for rect in ax.containers[0]:\n",
        "    height = rect.get_height()\n",
        "    ax.annotate(f'{height:.0f}', xy=(rect.get_x() + rect.get_width() / 2, height), xytext=(0, 3), textcoords=\"offset points\", ha='center', va='bottom')\n",
        "\n",
        "plt.show()"
      ],
      "metadata": {
        "colab": {
          "base_uri": "https://localhost:8080/",
          "height": 564
        },
        "id": "pea9VqO4bXZv",
        "outputId": "68a938f9-66ba-4a7c-be2b-7230abeec746"
      },
      "execution_count": null,
      "outputs": [
        {
          "output_type": "display_data",
          "data": {
            "text/plain": [
              "<Figure size 800x600 with 1 Axes>"
            ],
            "image/png": "[encoded data removed]"
          },
          "metadata": {}
        }
      ]
    },
    {
      "cell_type": "markdown",
      "source": [
        "National Averages"
      ],
      "metadata": {
        "id": "Kl4F3XIDV2tf"
      }
    },
    {
      "cell_type": "code",
      "source": [
        "# total population in the census dataframe\n",
        "total_population = census['Observation'].sum()\n",
        "\n",
        "# total number of accidents in the accidents dataframe\n",
        "total_accidents = accidents['accident_reference'].nunique()\n",
        "\n",
        "# national average accidents per capita for the UK\n",
        "national_average = (total_accidents / total_population) * 1000\n",
        "\n",
        "print(f\"The national average of accidents per 1,000 people for England from 2016-2020 is {national_average:.0f}\")"
      ],
      "metadata": {
        "colab": {
          "base_uri": "https://localhost:8080/"
        },
        "id": "brexHNz1V4mB",
        "outputId": "9f5c2c38-1082-4b93-c464-bef0c4f56e15"
      },
      "execution_count": null,
      "outputs": [
        {
          "output_type": "stream",
          "name": "stdout",
          "text": [
            "The national average of accidents per 1,000 people for England from 2016-2020 is 10\n"
          ]
        }
      ]
    },
    {
      "cell_type": "code",
      "source": [
        "age_group = 'Aged 15 years and under'\n",
        "\n",
        "accidents_age_group = accidents[accidents['Age (6 categories)'].isin([age_group])]\n",
        "\n",
        "accidents_per_city_age_group = accidents_age_group.groupby('city')['accident_reference'].count()\n",
        "\n",
        "# accidents per capita using the population data from the census dataset\n",
        "population_per_city_age_group = census[census['Age (6 categories)'].isin([age_group])].groupby('city')['Observation'].sum()\n",
        "accidents_per_capita_national_age_group = (accidents_per_city_age_group.sum() / population_per_city_age_group.sum()) * 1000\n",
        "\n",
        "print(f\"The national average of accidents per 1,000 people {age_group} in England from 2016-2020 is {accidents_per_capita_national_age_group:.0f}\")"
      ],
      "metadata": {
        "colab": {
          "base_uri": "https://localhost:8080/"
        },
        "id": "8bY4Eu5aXd0a",
        "outputId": "8a3d8cc8-13ba-43b5-b6f4-c992627df60a"
      },
      "execution_count": null,
      "outputs": [
        {
          "output_type": "stream",
          "name": "stdout",
          "text": [
            "The national average of accidents per 1,000 people Aged 15 years and under in England from 2016-2020 is 9\n"
          ]
        }
      ]
    }
  ]
}